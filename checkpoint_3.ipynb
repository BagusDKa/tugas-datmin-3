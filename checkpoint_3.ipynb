{
  "nbformat": 4,
  "nbformat_minor": 0,
  "metadata": {
    "colab": {
      "provenance": [],
      "authorship_tag": "ABX9TyM6NHNv7SSFCQ7HFzMFnqvi",
      "include_colab_link": true
    },
    "kernelspec": {
      "name": "python3",
      "display_name": "Python 3"
    },
    "language_info": {
      "name": "python"
    }
  },
  "cells": [
    {
      "cell_type": "markdown",
      "metadata": {
        "id": "view-in-github",
        "colab_type": "text"
      },
      "source": [
        "<a href=\"https://colab.research.google.com/github/BagusDKa/tugas-datmin-3/blob/main/checkpoint_3.ipynb\" target=\"_parent\"><img src=\"https://colab.research.google.com/assets/colab-badge.svg\" alt=\"Open In Colab\"/></a>"
      ]
    },
    {
      "cell_type": "code",
      "execution_count": null,
      "metadata": {
        "id": "dT8XftPBHjMq"
      },
      "outputs": [],
      "source": [
        "import pandas as pd\n",
        "import numpy as np"
      ]
    },
    {
      "cell_type": "code",
      "source": [
        "# Load dataset\n",
        "path =\"/content/data.csv\"\n",
        "df = pd.read_csv(path)"
      ],
      "metadata": {
        "id": "AfIHRiMEINlC"
      },
      "execution_count": null,
      "outputs": []
    },
    {
      "cell_type": "code",
      "source": [
        "# 2. Data Cleaning\n",
        "# Tangani missing values\n",
        "df.dropna(inplace=True)  # Contoh: hapus baris dengan missing values\n",
        "\n",
        "# Deteksi dan tangani outliers\n",
        "Q1 = df.quantile(0.25)\n",
        "Q3 = df.quantile(0.75)\n",
        "IQR = Q3 - Q1\n",
        "df = df[~((df < (Q1 - 1.5 * IQR)) | (df > (Q3 + 1.5 * IQR))).any(axis=1)]\n",
        "\n",
        "# Deteksi dan tangani duplikat\n",
        "df.drop_duplicates(inplace=True)"
      ],
      "metadata": {
        "id": "LySX-7tEINhn"
      },
      "execution_count": null,
      "outputs": []
    },
    {
      "cell_type": "code",
      "source": [
        "# 3. Construct Data (Opsional)\n",
        "# Misalnya, membuat fitur baru berdasarkan kombinasi fitur yang ada"
      ],
      "metadata": {
        "id": "R1yHX6Y4INbp"
      },
      "execution_count": null,
      "outputs": []
    },
    {
      "cell_type": "code",
      "source": [
        "# 4. Data Reduction\n",
        "# Misalnya, menggunakan analisis korelasi untuk mengurangi fitur yang tidak relevan\n",
        "correlation_matrix = df.corr().abs()\n",
        "upper_tri = correlation_matrix.where(np.triu(np.ones(correlation_matrix.shape), k=1).astype(np.bool))\n",
        "to_drop = [column for column in upper_tri.columns if any(upper_tri[column] > 0.95)]\n",
        "df.drop(to_drop, axis=1, inplace=True)"
      ],
      "metadata": {
        "id": "bwe0xEOHINSx"
      },
      "execution_count": null,
      "outputs": []
    },
    {
      "cell_type": "code",
      "source": [
        "# 5. Data Transformation\n",
        "# Misalnya, encoding variabel kategorikal menggunakan one-hot encoding\n",
        "df = pd.get_dummies(df, columns=['kategori'])"
      ],
      "metadata": {
        "id": "27JI52SoIWtO"
      },
      "execution_count": null,
      "outputs": []
    },
    {
      "cell_type": "code",
      "source": [
        "# 6. Penjelasan\n",
        "# Berikan penjelasan untuk setiap langkah yang dilakukan"
      ],
      "metadata": {
        "id": "521OyfYeIXUy"
      },
      "execution_count": null,
      "outputs": []
    },
    {
      "cell_type": "code",
      "source": [
        "# 7. Konversi DataFrame ke CSV\n",
        "df.to_csv('Data Cleaned.csv', index=False)"
      ],
      "metadata": {
        "id": "oa4s_Gh4IXLZ"
      },
      "execution_count": null,
      "outputs": []
    }
  ]
}